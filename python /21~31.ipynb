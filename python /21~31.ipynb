{
  "nbformat": 4,
  "nbformat_minor": 0,
  "metadata": {
    "colab": {
      "provenance": [],
      "authorship_tag": "ABX9TyOvqoajzbM/KvDwaBVCAu+c",
      "include_colab_link": true
    },
    "kernelspec": {
      "name": "python3",
      "display_name": "Python 3"
    },
    "language_info": {
      "name": "python"
    }
  },
  "cells": [
    {
      "cell_type": "markdown",
      "metadata": {
        "id": "view-in-github",
        "colab_type": "text"
      },
      "source": [
        "<a href=\"https://colab.research.google.com/github/wqeracv/It-me/blob/main/21~31.ipynb\" target=\"_parent\"><img src=\"https://colab.research.google.com/assets/colab-badge.svg\" alt=\"Open In Colab\"/></a>"
      ]
    },
    {
      "cell_type": "markdown",
      "source": [
        "CH.21 사용자로부터 이름과 나이를 입력 받아, \"안녕하세요, [이름]님! 당신은 [나이]살입니다.\"라고 출력하는 함수 greet_user를 작성하세요."
      ],
      "metadata": {
        "id": "d3_X3i4RE4Ma"
      }
    },
    {
      "cell_type": "code",
      "execution_count": 2,
      "metadata": {
        "colab": {
          "base_uri": "https://localhost:8080/"
        },
        "id": "LtcMRDqLE3UN",
        "outputId": "744bb340-f864-461f-896e-e9ed0f54694c"
      },
      "outputs": [
        {
          "output_type": "stream",
          "name": "stdout",
          "text": [
            "(\"안녕하세요\",이성범님! 당신은 25살입니다.)\n"
          ]
        }
      ],
      "source": [
        "def greet_user (name, old) :\n",
        "    print(f'(\"안녕하세요\",{name}님! 당신은 {old}살입니다.)')\n",
        "\n",
        "greet_user (\"이성범\", 25)"
      ]
    },
    {
      "cell_type": "markdown",
      "source": [
        "CH_22 여러 숫자를 입력받아 그 합계를 반환하는 함수 sum_numbers를 작성하세요. 이 때, 가변 매개변수를 사용하세요."
      ],
      "metadata": {
        "id": "IKAmVFf4E-RI"
      }
    },
    {
      "cell_type": "code",
      "source": [
        "def sum_numbers(*number) :\n",
        "    return sum(number)\n",
        "\n",
        "print(sum_numbers(1+2+3+4+5))"
      ],
      "metadata": {
        "colab": {
          "base_uri": "https://localhost:8080/"
        },
        "id": "9ER9x9YNE-lj",
        "outputId": "8e4c4584-638e-4e27-c641-2825fa02b4a5"
      },
      "execution_count": 4,
      "outputs": [
        {
          "output_type": "stream",
          "name": "stdout",
          "text": [
            "15\n"
          ]
        }
      ]
    },
    {
      "cell_type": "markdown",
      "source": [
        "CH.23 사용자의 이름을 출력하는 함수 print_name을 작성하세요. 만약 이름이 주어지지 않았다면, 기본값으로 \"익명\"을 사용하세요."
      ],
      "metadata": {
        "id": "OurY6f4GFGB1"
      }
    },
    {
      "cell_type": "code",
      "source": [
        "def print_name(name=\"익명\"):\n",
        "    print(name)\n",
        "\n",
        "print_name(\"노익명\")\n",
        "print_name()"
      ],
      "metadata": {
        "colab": {
          "base_uri": "https://localhost:8080/"
        },
        "id": "YGlCwL8RFGj3",
        "outputId": "d8a4915c-3147-426a-b407-7583a6df4e9e"
      },
      "execution_count": 6,
      "outputs": [
        {
          "output_type": "stream",
          "name": "stdout",
          "text": [
            "노익명\n",
            "익명\n"
          ]
        }
      ]
    },
    {
      "cell_type": "markdown",
      "source": [
        "CH.24 사용자의 이름, 나이, 성별을 출력하는 함수 print_info를 작성하세요. 이 때, 모든 매개변수는 키워드 매개변수로만 받도록 하세요."
      ],
      "metadata": {
        "id": "gWbI3Zy-FkL4"
      }
    },
    {
      "cell_type": "code",
      "source": [
        "def oz(**kwarge):\n",
        "    for name, number  in kwarge.items():\n",
        "        print (f\"{name}:{number}\")\n",
        "\n",
        "oz(name=\"범성\", age=25, gender=\"남성\")"
      ],
      "metadata": {
        "colab": {
          "base_uri": "https://localhost:8080/"
        },
        "id": "1GOaofKlFkW0",
        "outputId": "3158114b-1b3f-4975-970d-4159f524c05a"
      },
      "execution_count": 7,
      "outputs": [
        {
          "output_type": "stream",
          "name": "stdout",
          "text": [
            "name:범성\n",
            "age:25\n",
            "gender:남성\n"
          ]
        }
      ]
    },
    {
      "cell_type": "markdown",
      "source": [
        "CH.25 두 개의 정수를 받아 합을 반환하는 함수 add를 작성하세요. 매개변수와 반환값에 타입 어노테이션을 추가하세요."
      ],
      "metadata": {
        "id": "0X6-a0ajF5BZ"
      }
    },
    {
      "cell_type": "code",
      "source": [
        "def add(a, b):\n",
        "    return a + b\n",
        "\n",
        "print(add(161412123, 15141413))"
      ],
      "metadata": {
        "colab": {
          "base_uri": "https://localhost:8080/"
        },
        "id": "eo0OFmOAF5M5",
        "outputId": "c90ac5e4-2b2a-4a35-b025-d71508fd7196"
      },
      "execution_count": 8,
      "outputs": [
        {
          "output_type": "stream",
          "name": "stdout",
          "text": [
            "176553536\n"
          ]
        }
      ]
    },
    {
      "cell_type": "markdown",
      "source": [
        "CH.26 0부터 시작하여 n까지의 숫자 중에서 홀수만 생성하는 제너레이터 odd_numbers를 작성하세요."
      ],
      "metadata": {
        "id": "ATZaBbx7F_xJ"
      }
    },
    {
      "cell_type": "code",
      "source": [
        "def odd_number(n):\n",
        "    for i in range(n) :\n",
        "        if i % 2 != 0 :\n",
        "            yield i\n",
        "\n",
        "for num in odd_number(10) :\n",
        "    print(num)"
      ],
      "metadata": {
        "id": "v-r-qUsqGABW"
      },
      "execution_count": null,
      "outputs": []
    },
    {
      "cell_type": "markdown",
      "source": [
        "CH.27 두 숫자를 더하는 람다 함수를 작성하고, 이를 변수에 할당한 후 사용하세요."
      ],
      "metadata": {
        "id": "kCwjqlPmGG2r"
      }
    },
    {
      "cell_type": "code",
      "source": [
        "code = lambda a, b: a + b\n",
        "\n",
        "print(code(4, 6))"
      ],
      "metadata": {
        "id": "S_jUfC0UGTq0"
      },
      "execution_count": null,
      "outputs": []
    },
    {
      "cell_type": "markdown",
      "source": [
        "CH.28 사용자로부터 3개의 숫자를 입력받아, 이를 튜플로 만든 후 최소값과 최대값을 출력하는 함수 min_max를 작성하세요."
      ],
      "metadata": {
        "id": "x-y9ihGoGIYp"
      }
    },
    {
      "cell_type": "code",
      "source": [
        "def abc(*number):\n",
        "    efg = tuple(number)\n",
        "    print(\"최소값:\", min(efg), \"최대값:\", max(efg))\n",
        "\n",
        "abc(20, 18, 92)"
      ],
      "metadata": {
        "id": "5j3izQaeGYHE"
      },
      "execution_count": null,
      "outputs": []
    },
    {
      "cell_type": "markdown",
      "source": [
        "CH.29 주어진 숫자가 짝수인지 확인하는 함수 is_even을 작성하세요. 짝수라면 True를, 아니라면 False를 반환하세요. 함수 내에서 조기 리턴을 활용하세요."
      ],
      "metadata": {
        "id": "A2O2-iNKGJ_B"
      }
    },
    {
      "cell_type": "code",
      "source": [
        "def is_even(number):\n",
        "    return number % 2 == 0\n",
        "\n",
        "print(is_even(134148714))\n",
        "print(is_even(134148715))"
      ],
      "metadata": {
        "colab": {
          "base_uri": "https://localhost:8080/"
        },
        "id": "3S7sccM3GcDj",
        "outputId": "806559e5-9323-4e9d-bc30-83acef2cc329"
      },
      "execution_count": 9,
      "outputs": [
        {
          "output_type": "stream",
          "name": "stdout",
          "text": [
            "True\n",
            "False\n"
          ]
        }
      ]
    },
    {
      "cell_type": "markdown",
      "source": [
        "CH.30 팩토리얼을 계산하는 재귀 함수 factorial을 작성하세요."
      ],
      "metadata": {
        "id": "NLjWxYXrGKpZ"
      }
    },
    {
      "cell_type": "code",
      "source": [
        "def oz_factorial(n):\n",
        "    output = 1\n",
        "    for i in range(1, n+1):\n",
        "        output *= i\n",
        "    return output\n",
        "n = int(input(\"구하고싶은 팩토리얼의 수를 입력해주세요\"))\n",
        "print(f\"{n}의 결과는 {oz_factorial(n)}입니다\")"
      ],
      "metadata": {
        "colab": {
          "base_uri": "https://localhost:8080/"
        },
        "id": "1H2knvgXGi0p",
        "outputId": "407ca5cf-f855-4840-b14d-b463124be07c"
      },
      "execution_count": 10,
      "outputs": [
        {
          "output_type": "stream",
          "name": "stdout",
          "text": [
            "구하고싶은 팩토리얼의 수를 입력해주세요9\n",
            "9의 결과는 362880입니다\n"
          ]
        }
      ]
    },
    {
      "cell_type": "markdown",
      "source": [
        "CH.31 문자열 리스트를 받아, 각 문자열의 길이를 출력하는 함수 print_lengths를 작성하세요."
      ],
      "metadata": {
        "id": "mQ1PUbO3GKdW"
      }
    },
    {
      "cell_type": "code",
      "source": [
        "def print_legths(str):\n",
        "    for i in str:\n",
        "        print(len(i))\n",
        "\n",
        "print_legths([\"hello\", \"my\", \"name\"],)"
      ],
      "metadata": {
        "colab": {
          "base_uri": "https://localhost:8080/"
        },
        "id": "sCrPWcQLGoZy",
        "outputId": "1441163b-47a7-49b1-e070-1e9400a18b48"
      },
      "execution_count": 11,
      "outputs": [
        {
          "output_type": "stream",
          "name": "stdout",
          "text": [
            "5\n",
            "2\n",
            "4\n"
          ]
        }
      ]
    },
    {
      "cell_type": "markdown",
      "source": [
        "CH.32 두 문자열을 받아서 긴 문자열을 반환하는 함수 longer_string을 작성하세요. 만약 두 문자열의 길이가 같다면, 첫 번째 문자열을 반환하세요."
      ],
      "metadata": {
        "id": "-HI9Sfx3GKOF"
      }
    },
    {
      "cell_type": "code",
      "source": [
        "def longer_string(str,str1):\n",
        "    if len(str) >= len(str1): # ==이 아닌이유 : 두문자열의 길이가 같다면 첫번째 문자열을 반환하세요 str이 크면 당연히 str을 출력해야하고 같으면 첫번째 문자열을 출력해야하니까 >=를 사용해야함\n",
        "        print(str)\n",
        "    else:\n",
        "        print(str1)\n",
        "\n",
        "longer_string(\"lostark\",\"league of legends\")"
      ],
      "metadata": {
        "colab": {
          "base_uri": "https://localhost:8080/"
        },
        "id": "VtGZ3kl2GuA9",
        "outputId": "e558367a-db91-4544-fb1e-91d6c944f951"
      },
      "execution_count": 12,
      "outputs": [
        {
          "output_type": "stream",
          "name": "stdout",
          "text": [
            "league of legends\n"
          ]
        }
      ]
    }
  ]
}
