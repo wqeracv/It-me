{
  "nbformat": 4,
  "nbformat_minor": 0,
  "metadata": {
    "colab": {
      "provenance": [],
      "authorship_tag": "ABX9TyO6/VfnDHl25hT0cf6BTLop",
      "include_colab_link": true
    },
    "kernelspec": {
      "name": "python3",
      "display_name": "Python 3"
    },
    "language_info": {
      "name": "python"
    }
  },
  "cells": [
    {
      "cell_type": "markdown",
      "metadata": {
        "id": "view-in-github",
        "colab_type": "text"
      },
      "source": [
        "<a href=\"https://colab.research.google.com/github/wqeracv/It-me/blob/main/python_test.ipynb\" target=\"_parent\"><img src=\"https://colab.research.google.com/assets/colab-badge.svg\" alt=\"Open In Colab\"/></a>"
      ]
    },
    {
      "cell_type": "markdown",
      "source": [
        "##사칙연산\n",
        "더하기 : +\n",
        "\n",
        "빼기 : -\n",
        "\n",
        "곱하기 : *\n",
        "\n",
        "나누기 :\n",
        "*   / : 우리가 알고 있는 나누기와 동일한 기능 (예 5/2=2.5)\n",
        "*  // : 몫을 반환 (예 5/2=2)\n",
        "*  % : 나머지를 반환 ( 예 5/2=1)\n",
        "\n",
        "거듭제곱 : **\n"
      ],
      "metadata": {
        "id": "cDRbHz8smg5C"
      }
    },
    {
      "cell_type": "code",
      "source": [
        "#더하기\n",
        "print (3+2)"
      ],
      "metadata": {
        "colab": {
          "base_uri": "https://localhost:8080/"
        },
        "id": "K8rT3tavnms_",
        "outputId": "b11589a1-06a7-40f4-ccf1-36c610c3411a"
      },
      "execution_count": 11,
      "outputs": [
        {
          "output_type": "stream",
          "name": "stdout",
          "text": [
            "5\n"
          ]
        }
      ]
    },
    {
      "cell_type": "code",
      "source": [
        "#빼기\n",
        "print (3-1)"
      ],
      "metadata": {
        "colab": {
          "base_uri": "https://localhost:8080/"
        },
        "id": "DWzry-49nuCs",
        "outputId": "0b869e0c-aeb9-410b-802d-23eff10e9478"
      },
      "execution_count": 12,
      "outputs": [
        {
          "output_type": "stream",
          "name": "stdout",
          "text": [
            "2\n"
          ]
        }
      ]
    },
    {
      "cell_type": "code",
      "source": [
        "#곱하기\n",
        "print (3*2)"
      ],
      "metadata": {
        "colab": {
          "base_uri": "https://localhost:8080/"
        },
        "id": "qL9AwZainxxB",
        "outputId": "79dfd782-9be5-4ab7-a100-91be3a94b470"
      },
      "execution_count": 14,
      "outputs": [
        {
          "output_type": "stream",
          "name": "stdout",
          "text": [
            "6\n"
          ]
        }
      ]
    },
    {
      "cell_type": "code",
      "source": [
        "#나누기 /\n",
        "print (7/2)\n",
        "\n",
        "#나누기 //\n",
        "print (7//2)\n",
        "\n",
        "#나누기 %\n",
        "print (7%2)"
      ],
      "metadata": {
        "colab": {
          "base_uri": "https://localhost:8080/"
        },
        "id": "bjMeq0tCn8EO",
        "outputId": "dfab40bd-0ff5-4bcf-a0cb-0b4911d22c83"
      },
      "execution_count": 18,
      "outputs": [
        {
          "output_type": "stream",
          "name": "stdout",
          "text": [
            "3.5\n",
            "3\n",
            "1\n"
          ]
        }
      ]
    },
    {
      "cell_type": "markdown",
      "source": [
        "내장함수 : divmod\n",
        "\n",
        "> 내장함수 : 자주 사용하는 기능을 미리 만들어 놓은것을 내장함수라고 함\n",
        "\n",
        "**divmod** : 몫과 나머지를 동시에 구해줌"
      ],
      "metadata": {
        "id": "tsiZAsrAodGE"
      }
    },
    {
      "cell_type": "code",
      "source": [
        "print (divmod(3, 2))\n",
        "print (divmod(7, 4))\n",
        "print (divmod(13, 2))\n",
        "print (divmod(19, 4))\n",
        "print (divmod(15, 5))\n",
        "\n",
        "print( 7//4, \",\" ,7%4)"
      ],
      "metadata": {
        "colab": {
          "base_uri": "https://localhost:8080/"
        },
        "id": "D3VEO1K9o9sP",
        "outputId": "19a6146b-6f18-49df-aa2a-5571493efb02"
      },
      "execution_count": 23,
      "outputs": [
        {
          "output_type": "stream",
          "name": "stdout",
          "text": [
            "(1, 1)\n",
            "(1, 3)\n",
            "(6, 1)\n",
            "(4, 3)\n",
            "(3, 0)\n",
            "1 , 3\n"
          ]
        }
      ]
    },
    {
      "cell_type": "markdown",
      "source": [
        "### 괄호\n",
        "\n",
        "수학에서 사용되는 괄호와 동일한 기능\n",
        "\n",
        "() : 괄호안에 있는 것을 먼저 계산\n",
        "\n",
        "**사칙연산 순서** : 괄호 -> 곱셈, 나눗셈 -> 덧셈, 뺄셈"
      ],
      "metadata": {
        "id": "4JJ8nOdvqNsj"
      }
    },
    {
      "cell_type": "code",
      "source": [
        "3 + 2 * 4"
      ],
      "metadata": {
        "colab": {
          "base_uri": "https://localhost:8080/"
        },
        "id": "4r8WGmiGqp7V",
        "outputId": "faba0985-9992-4f76-e97a-f474becea288"
      },
      "execution_count": 25,
      "outputs": [
        {
          "output_type": "execute_result",
          "data": {
            "text/plain": [
              "11"
            ]
          },
          "metadata": {},
          "execution_count": 25
        }
      ]
    },
    {
      "cell_type": "code",
      "source": [
        "(3+2) * 4"
      ],
      "metadata": {
        "colab": {
          "base_uri": "https://localhost:8080/"
        },
        "id": "xhljKdsnquq1",
        "outputId": "b3d27322-d2f9-4d6d-8d4e-91420186dd96"
      },
      "execution_count": 26,
      "outputs": [
        {
          "output_type": "execute_result",
          "data": {
            "text/plain": [
              "20"
            ]
          },
          "metadata": {},
          "execution_count": 26
        }
      ]
    }
  ]
}