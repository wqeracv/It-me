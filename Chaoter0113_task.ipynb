{
  "cells": [
    {
      "cell_type": "markdown",
      "metadata": {
        "id": "view-in-github",
        "colab_type": "text"
      },
      "source": [
        "<a href=\"https://colab.research.google.com/github/wqeracv/It-me/blob/main/Chaoter0113_task.ipynb\" target=\"_parent\"><img src=\"https://colab.research.google.com/assets/colab-badge.svg\" alt=\"Open In Colab\"/></a>"
      ]
    },
    {
      "cell_type": "markdown",
      "metadata": {
        "id": "fD4Qab2qYgOm"
      },
      "source": [
        "안녕하세요. 수강생 여러분~!\n",
        "\n",
        "Chapter01 ~ 13의 수업 내용을 바탕으로 아래 문제를 풀어주시면 됩니다 !\n",
        "\n",
        "지금까지 잘 해오셨으니까, 총 복습한다고 생각하시고 한번 도전해보세요 !!!\n",
        "\n",
        "\n",
        "<br>\n",
        "\n",
        "\n",
        "[**답변 입력 방법**]\n",
        "\n",
        "문제 아래에 있는 코드 입력창에 정답코드를 작성하신 후  __▷ 버튼을 클릭해 코드를 실행__ 해보세요<br>"
      ]
    },
    {
      "cell_type": "markdown",
      "metadata": {
        "id": "H2rYbp6zAt_y"
      },
      "source": [
        "---"
      ]
    },
    {
      "cell_type": "markdown",
      "metadata": {
        "id": "-UP5Z8jEAt_z"
      },
      "source": [
        "### 프로젝트: 간단한 ATM 관리 시스템\n",
        "<br>\n",
        "\n",
        "__[문제 1: 잔액 확인]__\n",
        "\n",
        "현재 잔액은 1000원입니다. 현재 잔액을 출력하세요.\n",
        "\n",
        "(변수명 예시 : 잔액 - balance)"
      ]
    },
    {
      "cell_type": "code",
      "execution_count": null,
      "metadata": {
        "id": "K21tDCQ-At_z",
        "outputId": "0220f4e5-c03e-4647-e9aa-90867ba0c322"
      },
      "outputs": [
        {
          "name": "stdout",
          "output_type": "stream",
          "text": [
            "1000원\n"
          ]
        }
      ],
      "source": [
        "balance = \"1000\"\n",
        "print(balance)"
      ]
    },
    {
      "cell_type": "markdown",
      "metadata": {
        "id": "8XroOKF9At_0"
      },
      "source": [
        "__[문제 2: 입금]__\n",
        "\n",
        "가지고 있는 돈을 입금합니다.\n",
        "\n",
        "입금 금액을 입력받고, 잔액을 갱신한 후 새로운 잔액을 출력하세요. 입금 거래를 영수증 리스트에 기록하세요.\n",
        "\n",
        "- 입금 금액은 input()을 이용해 받습니다.\n",
        "- 영수증은 list()로 선언합니다.\n",
        "- 영수증에 들어가는 정보는 튜플 형태입니다. 튜플 : ()\n",
        "- 튜플에 담기는 정보는 (입금 or 출금, 입금 or 출금 금액, 현재 잔액)순 입니다.\n",
        "\n",
        "(변수명 예시: 영수증 리스트 - receipts, 입금 금액 - deposit_amount)\n"
      ]
    },
    {
      "cell_type": "code",
      "execution_count": null,
      "metadata": {
        "id": "JmvpzkbgAt_0",
        "outputId": "3ac94cba-8e57-4ab3-dd7d-1e7a9cb941a3"
      },
      "outputs": [
        {
          "name": "stdout",
          "output_type": "stream",
          "text": [
            "입금하신 금액은 3000입니다. 현재 잔액은 {balance}입니다\n",
            "[('입금', 3000, 4000)]\n"
          ]
        }
      ],
      "source": [
        "receipts = []\n",
        "balance = 1000\n",
        "\n",
        "#입금 기능\n",
        "deposit_amount = int(input(\"입금할 금액을 입력해주세요 : \"))\n",
        "balance += deposit_amount #balance = balance + deposit_amount 와 같다\n",
        "receipts.append((\"입금\",deposit_amount,balance))\n",
        "print(f'입금하신 금액은 {deposit_amount}입니다.', '현재 잔액은 {balance}입니다')\n",
        "\n",
        "#영수증 내역 출역\n",
        "print (receipts)"
      ]
    },
    {
      "cell_type": "markdown",
      "metadata": {
        "id": "PKIc66bWAt_1"
      },
      "source": [
        "__[문제 3: 출금]__\n",
        "\n",
        "사용자가 돈을 출금합니다. 출금 금액을 입력받고, 잔액을 갱신한 후 새로운 잔액을 출력하세요. 출금 거래를 영수증 리스트에 기록하세요.\n",
        "\n",
        "- 출금 금액은 input()을 이용해 받습니다.\n",
        "- 현재 잔액보다 출금 요청 금액이 많을 경우 현재 잔액 만큼만 출금되도록 합니다.\n",
        "- 영수증에 들어가는 정보는 튜플 형태입니다.\n",
        "- 튜플에 담기는 정보는 (입금 or 출금, 입금 or 출금 금액, 현재 잔액)순 입니다.\n",
        "\n",
        "(변수명 예시: 출금금액 - withdraw_amount)"
      ]
    },
    {
      "cell_type": "code",
      "execution_count": null,
      "metadata": {
        "id": "QyPHSLdmAt_1",
        "outputId": "c23c8344-dd5b-4a46-88e9-03389b512db5"
      },
      "outputs": [
        {
          "name": "stdout",
          "output_type": "stream",
          "text": [
            "무한루프가 해제 되었습니다 현재 잔액은 {balance}입니다.\n"
          ]
        }
      ],
      "source": [
        "receipts = []\n",
        "balance = 1000\n",
        "\n",
        "while True : #반복문\n",
        "    num = input(\"사용하실 기능을 선택해주세요 (1:입금, 2:출금, 3:영수증 보기, 4:종료)\")\n",
        "    if num == \"1\":\n",
        "    #입금 기능\n",
        "        deposit_amount = int(input(\"입금할 금액을 입력해주세요 : \"))\n",
        "        balance += deposit_amount #balance = balance + deposit_amount 와 같다\n",
        "        receipts.append((\"입금\",deposit_amount,balance))\n",
        "        print(f'입금하신 금액은 {deposit_amount}입니다.', '현재 잔액은 {balance}입니다')\n",
        "        print (receipts)\n",
        "    elif num == \"2\":\n",
        "    #출금 기능\n",
        "        withdraw_amount = int(input(\"출금할 금액을 입력해주세요 : \"))\n",
        "        withdraw_amount = min(balance, withdraw_amount)\n",
        "        balance -= withdraw_amount #balance = balance - deposit_amount 와 같다\n",
        "        receipts.append((\"출금\",withdraw_amount,balance))\n",
        "        print(f'출금하신 금액은 {withdraw_amount}입니다.', '현재 잔액은 {balance}입니다')\n",
        "        print (receipts)\n",
        "    elif num == \"3\":\n",
        "    #영수증 내역 출역\n",
        "        print (receipts)\n",
        "    elif num == \"4\":\n",
        "        break #반복문 해제\n",
        "\n",
        "print(f\"무한루프가 해제 되었습니다\", \"현재 잔액은 {balance}입니다.\")"
      ]
    },
    {
      "cell_type": "markdown",
      "metadata": {
        "id": "ncp_-Q9oAt_1"
      },
      "source": [
        "__[문제 4: 모든 거래 내역 확인]__\n",
        "\n",
        "모든 거래 내역(영수증)을 요청받았을 때 출력하세요.\n",
        "- 지금까지 영수증에 추가된 정보를 출력합니다.\n",
        "- 출력 형태는 자유입니다."
      ]
    },
    {
      "cell_type": "code",
      "execution_count": null,
      "metadata": {
        "id": "Ukp2wiuLAt_1",
        "outputId": "1daa2eeb-7cfb-4049-98b4-4ff542eeb2b4"
      },
      "outputs": [
        {
          "name": "stdout",
          "output_type": "stream",
          "text": [
            "[('입금', 3000, 4000), ('출금', 4000, 0)]\n"
          ]
        }
      ],
      "source": [
        "print (receipts)"
      ]
    }
  ],
  "metadata": {
    "colab": {
      "provenance": [],
      "include_colab_link": true
    },
    "kernelspec": {
      "display_name": "Python 3",
      "name": "python3"
    },
    "language_info": {
      "codemirror_mode": {
        "name": "ipython",
        "version": 3
      },
      "file_extension": ".py",
      "mimetype": "text/x-python",
      "name": "python",
      "nbconvert_exporter": "python",
      "pygments_lexer": "ipython3",
      "version": "3.9.6"
    }
  },
  "nbformat": 4,
  "nbformat_minor": 0
}