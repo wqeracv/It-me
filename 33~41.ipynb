{
  "nbformat": 4,
  "nbformat_minor": 0,
  "metadata": {
    "colab": {
      "provenance": [],
      "authorship_tag": "ABX9TyMH7yKz2Hudlw1yv4Zv00i2",
      "include_colab_link": true
    },
    "kernelspec": {
      "name": "python3",
      "display_name": "Python 3"
    },
    "language_info": {
      "name": "python"
    }
  },
  "cells": [
    {
      "cell_type": "markdown",
      "metadata": {
        "id": "view-in-github",
        "colab_type": "text"
      },
      "source": [
        "<a href=\"https://colab.research.google.com/github/wqeracv/It-me/blob/main/33~41.ipynb\" target=\"_parent\"><img src=\"https://colab.research.google.com/assets/colab-badge.svg\" alt=\"Open In Colab\"/></a>"
      ]
    },
    {
      "cell_type": "markdown",
      "source": [
        "사용자로부터 두 개의 숫자를 입력받아 나눗셈을 수행하는 프로그램을 작성하세요.\n",
        "\n",
        "[예외처리]\n",
        "- 입력 값이 숫자가 아닐 때 발생할 수 있는 ValueError\n",
        "- 나누는 수가 0일 때 발생할 수 있는 ZeroDivisionError\n",
        "- 위 2가지 예외처리 후 사용자에게 이해하기 쉬운 메시지 작성 후 출력되도록 코드를 작성"
      ],
      "metadata": {
        "id": "RE_yQ_kImP5z"
      }
    },
    {
      "cell_type": "code",
      "execution_count": 1,
      "metadata": {
        "colab": {
          "base_uri": "https://localhost:8080/"
        },
        "id": "UTlvjiK8mLmw",
        "outputId": "66db0350-06f5-4ebb-fd4b-1afe2934894f"
      },
      "outputs": [
        {
          "output_type": "stream",
          "name": "stdout",
          "text": [
            "첫번째 값을 입력해주세요. :1\n",
            "투번째 값을 입력해주세요. :2\n",
            "0.5\n"
          ]
        }
      ],
      "source": [
        "try:\n",
        "    a = int(input(\"첫번째 값을 입력해주세요. :\"))\n",
        "    b = int(input(\"투번째 값을 입력해주세요. :\"))\n",
        "    print(a/b)\n",
        "\n",
        "except ValueError:\n",
        "    print(\"정수를 입력해주세요.\")\n",
        "except ZeroDivisionError:\n",
        "    print(\"0이아닌수를 입력해주세요.\")"
      ]
    },
    {
      "cell_type": "markdown",
      "source": [
        "파일을 읽어서 내용을 출력하는 프로그램을 작성하세요.\n",
        "\n",
        "- 파일이 존재하지 않을 때 발생하는 FileNotFoundError를 처리\n",
        "- 파일이 존재하지 않을 경우 \"파일을 찾을 수 없습니다.\"라는 메시지를 출력"
      ],
      "metadata": {
        "id": "bU5jPEd8mR6d"
      }
    },
    {
      "cell_type": "markdown",
      "source": [
        "try:\n",
        "    with open('myfile.txt', 'r') as a:\n",
        "        print(a.read())\n",
        "except FileNotFoundError:\n",
        "    print(\"파일을 찾을 수 없습니다.\")"
      ],
      "metadata": {
        "id": "kgrHk5BSmT_i"
      }
    },
    {
      "cell_type": "code",
      "source": [
        "try:\n",
        "    with open('myfile.txt', 'r') as a:\n",
        "        print(a.read())\n",
        "except FileNotFoundError:\n",
        "    print(\"파일을 찾을 수 없습니다.\")"
      ],
      "metadata": {
        "colab": {
          "base_uri": "https://localhost:8080/"
        },
        "id": "sQkvB01VmYyo",
        "outputId": "759bb14d-d786-4ffc-e9d6-d19c9dfba2a4"
      },
      "execution_count": 2,
      "outputs": [
        {
          "output_type": "stream",
          "name": "stdout",
          "text": [
            "파일을 찾을 수 없습니다.\n"
          ]
        }
      ]
    },
    {
      "cell_type": "markdown",
      "source": [
        "사용자로부터 여러 개의 숫자를 입력받아 리스트에 저장한 후, 사용자가 'done'이라고 입력할 때까지 계속 입력받으세요.\n",
        "\n",
        "- 입력 중 숫자가 아닌 값이 입력되면 ValueError를 처리\n",
        "- 숫자 외 값이 입력된 경우 어떤 값이 잘못 입력되었는지 사용자에게 알려주는 문구 출력<br>\n",
        "  (예: f\"잘못된 값: {변수}. 숫자를 입력해주세요.\")\n",
        "\n",
        "\n",
        "\n"
      ],
      "metadata": {
        "id": "bJqIl9RBmYLt"
      }
    },
    {
      "cell_type": "code",
      "source": [
        "numbers = []\n",
        "while True:\n",
        "    try:\n",
        "        line = input(\"숫자를 입력하세요 ('done'이면 종료): \")\n",
        "        if line == 'done':\n",
        "            break\n",
        "        numbers.append(int(line))\n",
        "    except ValueError:\n",
        "        print(f\"잘못입력하셨습니다: {line} 숫자를 입력해주세요.\")"
      ],
      "metadata": {
        "colab": {
          "base_uri": "https://localhost:8080/"
        },
        "id": "MUvZOQ3Hmc-D",
        "outputId": "1f20fcb8-3926-458d-efc1-60dbbb797c2d"
      },
      "execution_count": 3,
      "outputs": [
        {
          "name": "stdout",
          "output_type": "stream",
          "text": [
            "숫자를 입력하세요 ('done'이면 종료): 1234\n",
            "숫자를 입력하세요 ('done'이면 종료): 1234\n",
            "숫자를 입력하세요 ('done'이면 종료): 4\n",
            "숫자를 입력하세요 ('done'이면 종료): 종료\n",
            "잘못입력하셨습니다: 종료 숫자를 입력해주세요.\n",
            "숫자를 입력하세요 ('done'이면 종료): done\n"
          ]
        }
      ]
    }
  ]
}